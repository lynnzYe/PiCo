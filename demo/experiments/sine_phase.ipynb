{
 "cells": [
  {
   "cell_type": "code",
   "execution_count": 1,
   "id": "556fdc59-7de9-4179-8bc9-6d8ae8ad781b",
   "metadata": {},
   "outputs": [],
   "source": [
    "import numpy as np"
   ]
  },
  {
   "cell_type": "code",
   "execution_count": 3,
   "id": "9e05740d-4119-404d-8980-ed85bfa67be0",
   "metadata": {},
   "outputs": [
    {
     "name": "stdout",
     "output_type": "stream",
     "text": [
      "RMS Amplitude for Sine Wave (2 samples): 8.659560562354933e-17\n",
      "RMS Amplitude for Cosine Wave (2 samples): 1.0\n",
      "\n",
      "RMS Amplitude for Sine Wave (10 samples): 0.7071067811865476\n",
      "RMS Amplitude for Cosine Wave (10 samples): 0.7071067811865475\n",
      "\n",
      "RMS Amplitude for Sine Wave (20 samples): 0.7071067811865476\n",
      "RMS Amplitude for Cosine Wave (20 samples): 0.7071067811865476\n"
     ]
    }
   ],
   "source": [
    "import numpy as np\n",
    "\n",
    "def calculate_rms_amplitude(samples):\n",
    "    return np.sqrt(np.mean(samples**2))\n",
    "\n",
    "# Function to generate sine and cosine waves\n",
    "def generate_waveforms(num_samples):\n",
    "    t = np.linspace(0, 2*np.pi, num_samples, endpoint=False)\n",
    "    sine_wave = np.sin(t)\n",
    "    cosine_wave = np.cos(t)\n",
    "    return sine_wave, cosine_wave\n",
    "\n",
    "# Number of samples for different cases\n",
    "samples_2 = 2\n",
    "samples_10 = 10\n",
    "samples_20 = 20\n",
    "\n",
    "# Generate sine and cosine waves for different cases\n",
    "sine_wave_2, cosine_wave_2 = generate_waveforms(samples_2)\n",
    "sine_wave_10, cosine_wave_10 = generate_waveforms(samples_10)\n",
    "sine_wave_20, cosine_wave_20 = generate_waveforms(samples_20)\n",
    "\n",
    "# Calculate RMS amplitudes\n",
    "rms_amplitude_sine_2 = calculate_rms_amplitude(sine_wave_2)\n",
    "rms_amplitude_cosine_2 = calculate_rms_amplitude(cosine_wave_2)\n",
    "\n",
    "rms_amplitude_sine_10 = calculate_rms_amplitude(sine_wave_10)\n",
    "rms_amplitude_cosine_10 = calculate_rms_amplitude(cosine_wave_10)\n",
    "\n",
    "rms_amplitude_sine_20 = calculate_rms_amplitude(sine_wave_20)\n",
    "rms_amplitude_cosine_20 = calculate_rms_amplitude(cosine_wave_20)\n",
    "\n",
    "# Print results\n",
    "print(\"RMS Amplitude for Sine Wave (2 samples):\", rms_amplitude_sine_2)\n",
    "print(\"RMS Amplitude for Cosine Wave (2 samples):\", rms_amplitude_cosine_2)\n",
    "\n",
    "print(\"\\nRMS Amplitude for Sine Wave (10 samples):\", rms_amplitude_sine_10)\n",
    "print(\"RMS Amplitude for Cosine Wave (10 samples):\", rms_amplitude_cosine_10)\n",
    "\n",
    "print(\"\\nRMS Amplitude for Sine Wave (20 samples):\", rms_amplitude_sine_20)\n",
    "print(\"RMS Amplitude for Cosine Wave (20 samples):\", rms_amplitude_cosine_20)\n"
   ]
  },
  {
   "cell_type": "code",
   "execution_count": null,
   "id": "ced80df8-6d89-4054-be08-2c2524cd6820",
   "metadata": {},
   "outputs": [],
   "source": []
  }
 ],
 "metadata": {
  "kernelspec": {
   "display_name": "Python 3 (ipykernel)",
   "language": "python",
   "name": "python3"
  },
  "language_info": {
   "codemirror_mode": {
    "name": "ipython",
    "version": 3
   },
   "file_extension": ".py",
   "mimetype": "text/x-python",
   "name": "python",
   "nbconvert_exporter": "python",
   "pygments_lexer": "ipython3",
   "version": "3.10.10"
  }
 },
 "nbformat": 4,
 "nbformat_minor": 5
}
