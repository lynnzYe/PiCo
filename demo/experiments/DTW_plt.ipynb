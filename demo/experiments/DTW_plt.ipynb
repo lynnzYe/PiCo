{
 "cells": [
  {
   "cell_type": "code",
   "execution_count": 28,
   "id": "ce62b977-a7b4-4aa5-9f62-579606b38c0d",
   "metadata": {},
   "outputs": [],
   "source": [
    "import numpy as np\n",
    "import matplotlib.pyplot as plt\n",
    "import matplotlib.animation as animation\n",
    "import seaborn as sns\n",
    "from tslearn.metrics import dtw_path\n",
    "\n",
    "def plt_dtw(a, a_ref):\n",
    "    x = a.copy()\n",
    "    x_ref = a_ref.copy()\n",
    "\n",
    "    f = np.zeros((12, ))\n",
    "    f[:4] = -1.\n",
    "    f[4:8] = 1.\n",
    "    f[8:] = -1.\n",
    "    \n",
    "    length = 20\n",
    "    \n",
    "    fig = plt.figure()\n",
    "    ax = fig.gca()\n",
    "    for cur_ax in fig.axes:\n",
    "        cur_ax.set_facecolor(fig.patch.get_facecolor())\n",
    "    colors = sns.color_palette(\"Paired\")\n",
    "    colors_new_points = sns.color_palette(\"husl\", 8)\n",
    "   \n",
    "    x-=5\n",
    "    \n",
    "    path, _ = dtw_path(x_ref, x)\n",
    "    \n",
    "    x_ref_resampled = [x_ref[i] for i, j in path]\n",
    "    x_resampled = [x[j] for i, j in path]\n",
    "    x_ref_repeated = [idx > 0 and path[idx][0] == path[idx - 1][0] for idx in range(len(path))]\n",
    "    x_repeated = [idx > 0 and path[idx][1] == path[idx - 1][1] for idx in range(len(path))]\n",
    "    \n",
    "    line_x_ref, = ax.plot(x_ref, color=colors[7], linestyle='-', zorder=0.25)\n",
    "    line_x, = ax.plot(x, color=colors[7], linestyle='-', zorder=0.25)\n",
    "    line_x_ref_markers, = ax.plot(x_ref, color=colors[7], linestyle='', marker='o', markersize=3, zorder=1)\n",
    "    line_x_markers, = ax.plot(x, color=colors[7], linestyle='', marker='o', markersize=3, zorder=1)\n",
    "    \n",
    "    line_x_ref_dummy, = ax.plot([i for idx, (i, j) in enumerate(path) if x_ref_repeated[idx]], \n",
    "                                [x_ref[i] for idx, (i, j) in enumerate(path) if x_ref_repeated[idx]], \n",
    "                                color=colors_new_points[4], linestyle='', marker='o', markersize=3, zorder=.5)\n",
    "    line_x_dummy, = ax.plot([j for idx, (i, j) in enumerate(path) if x_repeated[idx]], \n",
    "                            [x[j] for idx, (i, j) in enumerate(path) if x_repeated[idx]],\n",
    "                            color=colors_new_points[4], linestyle='', marker='o', markersize=3, zorder=.5)\n",
    "    \n",
    "    \n",
    "    ax.set_xticks([])\n",
    "    ax.set_yticks([])\n",
    "    ax.set_xlim([-.5, len(path) - .5])\n",
    "    \n",
    "    list_matches = [None] * len(path)\n",
    "    for idx, (i, j) in enumerate(path):\n",
    "        list_matches[idx], = ax.plot([i, j], [x_ref[i], x[j]], color='k', alpha=.2, zorder=0)\n",
    "    \n",
    "    plt.tight_layout()\n"
   ]
  },
  {
   "cell_type": "code",
   "execution_count": null,
   "id": "884dbd0c-59af-4410-920e-1aecdedb8056",
   "metadata": {},
   "outputs": [],
   "source": []
  }
 ],
 "metadata": {
  "kernelspec": {
   "display_name": "Python 3 (ipykernel)",
   "language": "python",
   "name": "python3"
  },
  "language_info": {
   "codemirror_mode": {
    "name": "ipython",
    "version": 3
   },
   "file_extension": ".py",
   "mimetype": "text/x-python",
   "name": "python",
   "nbconvert_exporter": "python",
   "pygments_lexer": "ipython3",
   "version": "3.10.10"
  }
 },
 "nbformat": 4,
 "nbformat_minor": 5
}
